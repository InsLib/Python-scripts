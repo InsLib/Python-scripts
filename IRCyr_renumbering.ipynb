{
 "cells": [
  {
   "cell_type": "code",
   "execution_count": null,
   "metadata": {
    "collapsed": true
   },
   "outputs": [],
   "source": [
    "#extract filenames from /content/xml/epidoc and write them into a csv file\n",
    "# NB! REPLACE DIRECTORY PATHS AS APPROPRIATE\n",
    "\n",
    "import glob\n",
    "import csv\n",
    "\n",
    "mylist = [f for f in glob.glob(\"/Users/simonastoyanova/Desktop/ircyr-efes/webapps/ROOT/content/xml/epidoc/*.xml\")]\n",
    "mylist.sort()\n",
    "#print(mylist)\n",
    "\n",
    "\n",
    "with open(\"/Users/simonastoyanova/Desktop/ircyr-test/epidoc-dir.csv\", 'w') as myfile:\n",
    "    wr = csv.writer(myfile, quoting=csv.QUOTE_ALL)\n",
    "    for word in mylist:\n",
    "        wr.writerow([word])\n"
   ]
  },
  {
   "cell_type": "code",
   "execution_count": null,
   "metadata": {
    "collapsed": true
   },
   "outputs": [],
   "source": [
    "#check filename and content of <idno type=\"filename\"> for consistency\n",
    "# NB! REPLACE DIRECTORY PATHS AS APPROPRIATE\n",
    "\n",
    "import re\n",
    "\n",
    "with open(\"epidoc-dir.csv\", 'r') as listfiles:\n",
    "    lf = listfiles.readlines()\n",
    "   # print(lf)\n",
    "    for x in lf:\n",
    "        x = x.rstrip()\n",
    "        if len(x.split('.')[0]) != 6:\n",
    "            print(\"ERROR in \" + x + \" malformed filename!\")\n",
    "        if x !=\"Filenames\":\n",
    "            #print(x)\n",
    "            #fpath = '/Users/simonastoyanova/Desktop/ircyr-test/input/' + x     #ADD EXCEPTION HERE\n",
    "            fpath = '/Users/simonastoyanova/Desktop/ircyr-efes/webapps/ROOT/content/xml/epidoc/' + x     #ADD EXCEPTION HERE\n",
    "            infile = open(fpath,\"r\")\n",
    "            contents = infile.read()\n",
    "            idnos = re.findall(r'<idno type=\"filename\">(.*?)</idno>', contents)\n",
    "            if len(idnos) > 1:\n",
    "                print(\"ERROR in \" + x + \" too many idnos!\")\n",
    "            elif len(idnos) == 0:\n",
    "                print(\"ERROR in \" + x + \" no idno!\")\n",
    "            if len(idnos[0]) != 6:\n",
    "                print(\"ERROR in \" + x + \" malformed idno (\"+idnos[0]+\") !\")\n",
    "            if x.split('.')[0] != idnos[0]:\n",
    "                print(\"ERROR in \" + x + \" idno (\"+idnos[0]+\") doesn't match filename!\")\n",
    "\n",
    "                "
   ]
  },
  {
   "cell_type": "code",
   "execution_count": null,
   "metadata": {
    "collapsed": true
   },
   "outputs": [],
   "source": [
    "#replace old filenames with new ones\n",
    "#add new <idno> with new filename\n",
    "#replace all references to old filenames with new filenames\n",
    "# NB! REPLACE DIRECTORY PATHS AS APPROPRIATE\n",
    "\n",
    "import os\n",
    "import csv\n",
    "import shutil\n",
    "import glob\n",
    "import re\n",
    "\n",
    "allreplace = {}\n",
    "with open(\"all-replacements.csv\", \"r\") as file:\n",
    "    content = csv.reader(file)\n",
    "    for row in content:\n",
    "        allreplace[row[0]] = row[1]\n",
    "\n",
    "def renamefiles():\n",
    "    '''replaces old filenames with new ones, taken from a csv file'''\n",
    "    inpath = \"/Users/simonastoyanova/Desktop/ircyr-test/input/\"\n",
    "    outpath = \"/Users/simonastoyanova/Desktop/ircyr-test/newfiles/\"\n",
    "    for filename in os.listdir(inpath):\n",
    "        if filename.endswith('.xml'):\n",
    "            old_name = filename.split('.')\n",
    "            shutil.copy(inpath+filename,outpath+allreplace[old_name[0]]+'.xml')\n",
    "    print('all files renamed')\n",
    "\n",
    "def replaces():\n",
    "    '''replaces the content of <idno type=\"filename\"> with the new numbers;\n",
    "    keeps the old number in <idno type=\"ircyr2012\">'''\n",
    "    for file in glob.glob(\"/Users/simonastoyanova/Desktop/ircyr-test/newfiles/*.xml\"):\n",
    "        infile = open(file, \"r\")\n",
    "        contents = infile.read()\n",
    "        \n",
    "        oldid = re.findall('<idno type=\"filename\">(.*?)</idno>', contents)[0]\n",
    "        newid = allreplace[oldid]\n",
    "\n",
    "        oldstr = '<idno type=\"filename\">' + oldid + '</idno>'\n",
    "        newstr = '<idno type=\"filename\">' + newid + '</idno>\\n            <idno type=\"ircyr2012\">' + oldid + '</idno>'\n",
    "\n",
    "        contents = contents.replace(oldstr, newstr)\n",
    "        \n",
    "        allrefs = re.findall('<ref type=\"inscription\">(.*?)</ref>', contents)\n",
    "        for x in allrefs:\n",
    "            if x in allreplace.keys():\n",
    "                newnum = allreplace[x]\n",
    "                oldref = '<ref type=\"inscription\">' + x + '</ref>'\n",
    "                newref = '<ref type=\"inscription\" n=\"' + x + '\">' + newnum + '</ref>'\n",
    "                contents = contents.replace(oldref, newref)\n",
    "            else:\n",
    "                print('ERROR ' + x + ' referenced in ' + newid + ' but not in allreplace.csv!')\n",
    "    \n",
    "        outfile = open(file, \"w\")\n",
    "        outfile.write(contents)\n",
    "        outfile.close()\n",
    "    print('all idnos & refs replaced, files overwritten')\n",
    "\n",
    "\n",
    "renamefiles()\n",
    "replaces()"
   ]
  }
 ],
 "metadata": {
  "kernelspec": {
   "display_name": "Python 3",
   "language": "python",
   "name": "python3"
  },
  "language_info": {
   "codemirror_mode": {
    "name": "ipython",
    "version": 3
   },
   "file_extension": ".py",
   "mimetype": "text/x-python",
   "name": "python",
   "nbconvert_exporter": "python",
   "pygments_lexer": "ipython3",
   "version": "3.6.5"
  },
  "toc": {
   "nav_menu": {},
   "number_sections": false,
   "sideBar": false,
   "skip_h1_title": false,
   "title_cell": "Table of Contents",
   "title_sidebar": "Contents",
   "toc_cell": false,
   "toc_position": {
    "height": "48px",
    "left": "1163px",
    "top": "107.133px",
    "width": "159px"
   },
   "toc_section_display": false,
   "toc_window_display": true
  }
 },
 "nbformat": 4,
 "nbformat_minor": 2
}
