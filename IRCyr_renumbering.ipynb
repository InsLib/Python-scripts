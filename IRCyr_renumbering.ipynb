{
 "cells": [
  {
   "cell_type": "code",
   "execution_count": null,
   "metadata": {
    "collapsed": true
   },
   "outputs": [],
   "source": [
    "#extract filenames from /content/xml/epidoc and write them into a csv file\n",
    "# NB! replace directory paths as appropriate\n",
    "\n",
    "import glob\n",
    "import csv\n",
    "\n",
    "mylist = [f for f in glob.glob(\"/Users/simonastoyanova/Desktop/ircyr-efes/webapps/ROOT/content/xml/epidoc/*.xml\")]\n",
    "mylist.sort()\n",
    "#print(mylist)\n",
    "\n",
    "\n",
    "with open(\"/Users/simonastoyanova/Desktop/ircyr-test/epidoc-dir.csv\", 'w') as myfile:\n",
    "    wr = csv.writer(myfile, quoting=csv.QUOTE_ALL)\n",
    "    for word in mylist:\n",
    "        wr.writerow([word])\n"
   ]
  },
  {
   "cell_type": "code",
   "execution_count": null,
   "metadata": {},
   "outputs": [],
   "source": [
    "#check filename and content of <idno type=\"filename\"> for consistency\n",
    "\n",
    "import re\n",
    "\n",
    "with open(\"epidoc-dir.csv\", 'r') as listfiles:\n",
    "    lf = listfiles.readlines()\n",
    "   # print(lf)\n",
    "    for x in lf:\n",
    "        x = x.rstrip()\n",
    "        if len(x.split('.')[0]) != 6:\n",
    "            print(\"ERROR in \" + x + \" malformed filename!\")\n",
    "        if x !=\"Filenames\":\n",
    "            #print(x)\n",
    "            #fpath = '/Users/simonastoyanova/Desktop/ircyr-test/input/' + x     #ADD EXCEPTION HERE\n",
    "            fpath = '/Users/simonastoyanova/Desktop/ircyr-efes/webapps/ROOT/content/xml/epidoc/' + x     #ADD EXCEPTION HERE\n",
    "            infile = open(fpath,\"r\")\n",
    "            contents = infile.read()\n",
    "            idnos = re.findall(r'<idno type=\"filename\">(.*?)</idno>', contents)\n",
    "            if len(idnos) > 1:\n",
    "                print(\"ERROR in \" + x + \" too many idnos!\")\n",
    "            elif len(idnos) == 0:\n",
    "                print(\"ERROR in \" + x + \" no idno!\")\n",
    "            if len(idnos[0]) != 6:\n",
    "                print(\"ERROR in \" + x + \" malformed idno (\"+idnos[0]+\") !\")\n",
    "            if x.split('.')[0] != idnos[0]:\n",
    "                print(\"ERROR in \" + x + \" idno (\"+idnos[0]+\") doesn't match filename!\")\n",
    "\n",
    "                "
   ]
  },
  {
   "cell_type": "code",
   "execution_count": null,
   "metadata": {
    "collapsed": true
   },
   "outputs": [],
   "source": []
  }
 ],
 "metadata": {
  "kernelspec": {
   "display_name": "Python 3",
   "language": "python",
   "name": "python3"
  },
  "language_info": {
   "codemirror_mode": {
    "name": "ipython",
    "version": 3
   },
   "file_extension": ".py",
   "mimetype": "text/x-python",
   "name": "python",
   "nbconvert_exporter": "python",
   "pygments_lexer": "ipython3",
   "version": "3.6.5"
  },
  "toc": {
   "nav_menu": {},
   "number_sections": false,
   "sideBar": false,
   "skip_h1_title": false,
   "title_cell": "Table of Contents",
   "title_sidebar": "Contents",
   "toc_cell": false,
   "toc_position": {
    "height": "48px",
    "left": "1163px",
    "top": "107.133px",
    "width": "159px"
   },
   "toc_section_display": false,
   "toc_window_display": true
  }
 },
 "nbformat": 4,
 "nbformat_minor": 2
}
